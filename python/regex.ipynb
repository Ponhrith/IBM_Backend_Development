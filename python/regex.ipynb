{
 "cells": [
  {
   "cell_type": "code",
   "execution_count": 1,
   "metadata": {},
   "outputs": [
    {
     "name": "stdout",
     "output_type": "stream",
     "text": [
      "Digit found\n"
     ]
    },
    {
     "name": "stderr",
     "output_type": "stream",
     "text": [
      "<>:3: SyntaxWarning: invalid escape sequence '\\d'\n",
      "<>:3: SyntaxWarning: invalid escape sequence '\\d'\n",
      "/var/folders/52/n3jglnhd3yj7lxpmdmd1vvh40000gn/T/ipykernel_26121/1063187154.py:3: SyntaxWarning: invalid escape sequence '\\d'\n",
      "  result = re.search(\"\\d\", s3)\n"
     ]
    }
   ],
   "source": [
    "import re\n",
    "s3 = \"House number- 1105\"\n",
    "result = re.search(\"\\d\", s3)\n",
    "\n",
    "# Check if a match was found\n",
    "if result:\n",
    "    print(\"Digit found\")\n",
    "else:\n",
    "    print(\"Digit not found.\")"
   ]
  }
 ],
 "metadata": {
  "kernelspec": {
   "display_name": "Python 3",
   "language": "python",
   "name": "python3"
  },
  "language_info": {
   "codemirror_mode": {
    "name": "ipython",
    "version": 3
   },
   "file_extension": ".py",
   "mimetype": "text/x-python",
   "name": "python",
   "nbconvert_exporter": "python",
   "pygments_lexer": "ipython3",
   "version": "3.12.1"
  }
 },
 "nbformat": 4,
 "nbformat_minor": 2
}
